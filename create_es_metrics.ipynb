{
 "cells": [
  {
   "cell_type": "markdown",
   "id": "987d5f92",
   "metadata": {},
   "source": [
    "# Simple Exponential Smoothing Metrics\n",
    "\n",
    "This notebook runs exponential smoothing model for various smoothing constants ranging from 0.0 to 1.0 and save evaluation results."
   ]
  },
  {
   "cell_type": "code",
   "execution_count": 1,
   "id": "fee06500",
   "metadata": {},
   "outputs": [],
   "source": [
    "import module.util_functions as utf\n",
    "import module.constants as const\n",
    "from tqdm import tqdm\n",
    "import os\n",
    "import pandas as pd\n",
    "import numpy as np\n",
    "\n",
    "# load sales data for all stores\n",
    "store_sales = utf.load_ts_data('store_sales.csv')"
   ]
  },
  {
   "cell_type": "code",
   "execution_count": 2,
   "id": "a59cd7c9",
   "metadata": {},
   "outputs": [
    {
     "name": "stderr",
     "output_type": "stream",
     "text": [
      "100%|██████████| 45/45 [14:34<00:00, 19.44s/it]\n"
     ]
    }
   ],
   "source": [
    "from module.es_model import ExponentialSmoothing\n",
    "\n",
    "store_list = []         # a list of stores\n",
    "alpha_list = []         # a list of smoothing constants\n",
    "mape_list = []          # a list of MAPE\n",
    "mad_list = []           # a list of MAD\n",
    "rmse_list = []          # a list of RMSE\n",
    "r_squared_list = []     # a list of R-Squared\n",
    "\n",
    "# iterate through a list of stores\n",
    "for store_num in tqdm(store_sales.Store.unique()):\n",
    "    # get sales data for a given store\n",
    "    data = utf.get_store_sales(store_sales, store_num)\n",
    "    \n",
    "    # iterate through various alpha values ranging from 0.0 to 1.0\n",
    "    for smoothing_constant in np.arange(0.0, 1.01, 0.01):\n",
    "        smoothing_constant = np.round(smoothing_constant, 2)\n",
    "        \n",
    "        # fit an exponential smoothing model and predict next sales value using Rolling Forecast approach\n",
    "        model = ExponentialSmoothing(smoothing_constant)\n",
    "        forecasts, _, _ = utf.make_forecast(model, data)\n",
    "\n",
    "        # evaluate model and save result\n",
    "        mape, mad, rmse, r_squared = utf.compute_metrics(data.tail(const.TEST_SIZE)[const.STORE_OBSERVE], forecasts)\n",
    "        mape_list.append(mape)\n",
    "        mad_list.append(mad)\n",
    "        rmse_list.append(rmse)\n",
    "        alpha_list.append(smoothing_constant)\n",
    "        r_squared_list.append(r_squared)\n",
    "        store_list.append(store_num)"
   ]
  },
  {
   "cell_type": "code",
   "execution_count": 3,
   "id": "2ffc94ce",
   "metadata": {},
   "outputs": [],
   "source": [
    "# create a metric dataframe and save as a csv file\n",
    "metrics = pd.DataFrame({'Store': store_list, 'Alpha': alpha_list, 'MAPE': mape_list, \n",
    "                        'MAD': mad_list, 'RMSE': rmse_list, 'R-Squared': r_squared_list})\n",
    "metrics['Model'] = ['ES'] * metrics.shape[0]\n",
    "metrics.to_csv(os.path.join('results', 'es_metrics.csv'), index=False)"
   ]
  }
 ],
 "metadata": {
  "kernelspec": {
   "display_name": "Python 3 (ipykernel)",
   "language": "python",
   "name": "python3"
  },
  "language_info": {
   "codemirror_mode": {
    "name": "ipython",
    "version": 3
   },
   "file_extension": ".py",
   "mimetype": "text/x-python",
   "name": "python",
   "nbconvert_exporter": "python",
   "pygments_lexer": "ipython3",
   "version": "3.9.16"
  }
 },
 "nbformat": 4,
 "nbformat_minor": 5
}
